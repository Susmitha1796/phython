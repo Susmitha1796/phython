{
  "nbformat": 4,
  "nbformat_minor": 0,
  "metadata": {
    "colab": {
      "provenance": [],
      "authorship_tag": "ABX9TyO5UdkNkFfswcgjHQTNGZgS",
      "include_colab_link": true
    },
    "kernelspec": {
      "name": "python3",
      "display_name": "Python 3"
    },
    "language_info": {
      "name": "python"
    }
  },
  "cells": [
    {
      "cell_type": "markdown",
      "metadata": {
        "id": "view-in-github",
        "colab_type": "text"
      },
      "source": [
        "<a href=\"https://colab.research.google.com/github/Susmitha1796/phython/blob/main/2205A21017_A10.ipynb\" target=\"_parent\"><img src=\"https://colab.research.google.com/assets/colab-badge.svg\" alt=\"Open In Colab\"/></a>"
      ]
    },
    {
      "cell_type": "code",
      "execution_count": null,
      "metadata": {
        "id": "Rq-dB7GlsKkP",
        "colab": {
          "base_uri": "https://localhost:8080/"
        },
        "outputId": "ab19f980-85d6-4342-b8a3-7f8ba2573848"
      },
      "outputs": [
        {
          "output_type": "stream",
          "name": "stdout",
          "text": [
            "enter hall ticket no.104\n",
            "enter semester no.2\n",
            "======================================\n",
            "          SR UNIVERSITY                \n",
            "           Score Card                  \n",
            "=======================================\n",
            "Roll No:  104\n",
            "Semester: 2\n",
            "Subject1: 35\n",
            "Subject2: 65\n",
            "Subject3: 76\n",
            "Subject4: 87\n",
            "Subject5: 98\n",
            "Subject6: 9\n",
            "=======================================\n",
            "         Results Status              \n",
            "====================================\n",
            "Fail\n",
            "Failed Subjects:\n",
            "subject1\n",
            "subject6\n",
            "Pass\n",
            "percentage of marks: 62.0\n",
            "===================\n"
          ]
        }
      ],
      "source": [
        "import numpy as np\n",
        "marks=np.array([[[101,35,98,43,65,78,96],\n",
        "                 [102,87,45,98,65,34,78],\n",
        "                 [103,45,26,78,45,67,34],\n",
        "                 [104,45,56,67,78,89,90],\n",
        "                 [105,23,34,45,56,76,87]],\n",
        "                [[101,45,89,43,56,87,69],\n",
        "                 [102,78,54,89,56,43,87],\n",
        "                 [103,54,62,87,54,76,43],\n",
        "                 [104,35,65,76,87,98,9],\n",
        "                 [105,32,43,54,65,67,78]]])\n",
        "stud=marks.shape[1]\n",
        "sem=marks.shape[0]\n",
        "Hall_Ticket_No=int(input(\"enter hall ticket no.\"))\n",
        "semester=int(input(\"enter semester no.\"))\n",
        "for i in range(sem):\n",
        "  if(semester==i+1):\n",
        "    break\n",
        "index_sem=1\n",
        "for j in range(stud):\n",
        "  if(Hall_Ticket_No==marks[index_sem,j,0]):\n",
        "    break\n",
        "index_stud=j\n",
        "marks_percentage=np.sum(marks[index_sem,index_stud,1:marks.shape[2]])*100/600\n",
        "count=0\n",
        "failed_sub=[]\n",
        "for i in range(1,marks.shape[2]):\n",
        "  if(marks[index_sem,index_stud,i]<40):\n",
        "    count=count+1\n",
        "    failed_sub.append(i)\n",
        "print(\"======================================\")\n",
        "print(\"          SR UNIVERSITY                \")\n",
        "print(\"           Score Card                  \")\n",
        "print(\"=======================================\")\n",
        "\n",
        "print(\"Roll No: \", Hall_Ticket_No)\n",
        "print(\"Semester:\", semester)\n",
        "print(\"Subject1:\", marks [index_sem, index_stud, 1])\n",
        "print(\"Subject2:\", marks [index_sem, index_stud,2])\n",
        "print(\"Subject3:\", marks [index_sem, index_stud, 3])\n",
        "print(\"Subject4:\", marks [index_sem, index_stud, 4])\n",
        "print(\"Subject5:\", marks [index_sem, index_stud, 5])\n",
        "print(\"Subject6:\", marks [index_sem, index_stud,6])\n",
        "\n",
        "print(\"=======================================\")\n",
        "print(\"         Results Status              \")\n",
        "print(\"====================================\")\n",
        "if(count>0):\n",
        "  print(\"Fail\")\n",
        "  print(\"Failed Subjects:\")\n",
        "  for i in range(len (failed_sub)):\n",
        "\n",
        "    if(failed_sub[i]==1):\n",
        "      print(\"subject1\")\n",
        "    if(failed_sub[i]==2):\n",
        "      print(\"subject2\")\n",
        "    if(failed_sub[i]==3):\n",
        "      print(\"subject3\")\n",
        "    if(failed_sub[i]==4):\n",
        "      print(\"subject4\")\n",
        "    if(failed_sub[i]==5):\n",
        "      print(\"subject5\")\n",
        "    if(failed_sub[i]==6):\n",
        "      print(\"subject6\")\n",
        "\n",
        "  else:\n",
        "   print(\"Pass\")\n",
        "   print(\"percentage of marks:\", np.round (marks_percentage))\n",
        "  print(\"===================\")"
      ]
    }
  ]
}