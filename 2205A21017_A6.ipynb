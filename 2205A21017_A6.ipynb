{
  "nbformat": 4,
  "nbformat_minor": 0,
  "metadata": {
    "colab": {
      "provenance": [],
      "authorship_tag": "ABX9TyMFS5eq3MXZinpiXSR4qcIt",
      "include_colab_link": true
    },
    "kernelspec": {
      "name": "python3",
      "display_name": "Python 3"
    },
    "language_info": {
      "name": "python"
    }
  },
  "cells": [
    {
      "cell_type": "markdown",
      "metadata": {
        "id": "view-in-github",
        "colab_type": "text"
      },
      "source": [
        "<a href=\"https://colab.research.google.com/github/Susmitha1796/phython/blob/main/2205A21017_A6.ipynb\" target=\"_parent\"><img src=\"https://colab.research.google.com/assets/colab-badge.svg\" alt=\"Open In Colab\"/></a>"
      ]
    },
    {
      "cell_type": "markdown",
      "source": [
        "USING NESTED FOR LOOPS"
      ],
      "metadata": {
        "id": "vs8OeXfH90IN"
      }
    },
    {
      "cell_type": "code",
      "execution_count": null,
      "metadata": {
        "colab": {
          "base_uri": "https://localhost:8080/"
        },
        "id": "cVvEtTPF2uay",
        "outputId": "8135136c-baaa-47e5-c2dd-b99e8b6fa33a"
      },
      "outputs": [
        {
          "output_type": "stream",
          "name": "stdout",
          "text": [
            "enter the number of rows:6\n",
            "*\n",
            "\n",
            "**\n",
            "\n",
            "***\n",
            "\n",
            "****\n",
            "\n",
            "*****\n",
            "\n",
            "******\n",
            "\n"
          ]
        }
      ],
      "source": [
        "rows=int(input(\"enter the number of rows:\"))\n",
        "for i in range(rows):\n",
        "  for i in range(i+1):\n",
        "    print(\"*\",end=\"\")\n",
        "  print(\"\\n\")"
      ]
    },
    {
      "cell_type": "code",
      "source": [
        "for i in range(6):\n",
        "  for j in range(6):\n",
        "    if(i<=j):\n",
        "      print(\"+\",end=\"\")\n",
        "  print(\"\\n\")"
      ],
      "metadata": {
        "colab": {
          "base_uri": "https://localhost:8080/"
        },
        "id": "-OYtPitc26bG",
        "outputId": "1df6a5f4-3aa6-4908-9bca-7ddc912ae772"
      },
      "execution_count": null,
      "outputs": [
        {
          "output_type": "stream",
          "name": "stdout",
          "text": [
            "++++++\n",
            "\n",
            "+++++\n",
            "\n",
            "++++\n",
            "\n",
            "+++\n",
            "\n",
            "++\n",
            "\n",
            "+\n",
            "\n"
          ]
        }
      ]
    },
    {
      "cell_type": "code",
      "source": [
        "for i in range(5):\n",
        "  for j in range(5):\n",
        "    if(j<5-i-1):\n",
        "      print(\" \",end=\"\")\n",
        "    else:\n",
        "      print(\"+\",end=\"\")\n",
        "  print(\"\\n\")"
      ],
      "metadata": {
        "colab": {
          "base_uri": "https://localhost:8080/"
        },
        "id": "K9QJVsnk3Da_",
        "outputId": "945abf9d-3634-48d5-8b71-0354972a09c8"
      },
      "execution_count": null,
      "outputs": [
        {
          "output_type": "stream",
          "name": "stdout",
          "text": [
            "    +\n",
            "\n",
            "   ++\n",
            "\n",
            "  +++\n",
            "\n",
            " ++++\n",
            "\n",
            "+++++\n",
            "\n"
          ]
        }
      ]
    },
    {
      "cell_type": "code",
      "source": [
        "for i in range(6):\n",
        "  for j in range(6):\n",
        "\n",
        "      print(\" \",end=\"\")\n",
        "  for k in range(6-i):\n",
        "\n",
        "      print(\"+\",end=\"\")\n",
        "  print(\"\\n\")\n"
      ],
      "metadata": {
        "colab": {
          "base_uri": "https://localhost:8080/"
        },
        "id": "T_g7jyu43OFH",
        "outputId": "0c035ca7-83e8-4007-eabf-ce61e73ef9b5"
      },
      "execution_count": null,
      "outputs": [
        {
          "output_type": "stream",
          "name": "stdout",
          "text": [
            "      ++++++\n",
            "\n",
            "      +++++\n",
            "\n",
            "      ++++\n",
            "\n",
            "      +++\n",
            "\n",
            "      ++\n",
            "\n",
            "      +\n",
            "\n"
          ]
        }
      ]
    },
    {
      "cell_type": "markdown",
      "source": [
        "USING NESTED WHILE LOOPS"
      ],
      "metadata": {
        "id": "0SeVTAtF-Bn2"
      }
    },
    {
      "cell_type": "code",
      "source": [
        "rows=int(input(\"enter the number of rows:\"))\n",
        "i=1\n",
        "while(i<=rows):\n",
        "  j=1\n",
        "  while(j<=i):\n",
        "    print(\"*\",end=\"\")\n",
        "    j+=1\n",
        "  print()\n",
        "  i+=1"
      ],
      "metadata": {
        "colab": {
          "base_uri": "https://localhost:8080/"
        },
        "id": "OT3IRW-z3rMw",
        "outputId": "5d7449ea-a93e-4b68-82c8-7ecc2a3eea4e"
      },
      "execution_count": null,
      "outputs": [
        {
          "output_type": "stream",
          "name": "stdout",
          "text": [
            "enter the number of rows:6\n",
            "*\n",
            "**\n",
            "***\n",
            "****\n",
            "*****\n",
            "******\n"
          ]
        }
      ]
    },
    {
      "cell_type": "code",
      "source": [
        "i = 6\n",
        "while i > 0:\n",
        "    j = 0\n",
        "    while j < i:\n",
        "        print(\"+\", end=\"\")\n",
        "        j += 1\n",
        "    print()\n",
        "    i -= 1"
      ],
      "metadata": {
        "colab": {
          "base_uri": "https://localhost:8080/"
        },
        "id": "ng5YJu6y5e7w",
        "outputId": "eef6aba2-72c1-461b-9adf-3345e3a4f6d3"
      },
      "execution_count": null,
      "outputs": [
        {
          "output_type": "stream",
          "name": "stdout",
          "text": [
            "++++++\n",
            "+++++\n",
            "++++\n",
            "+++\n",
            "++\n",
            "+\n"
          ]
        }
      ]
    },
    {
      "cell_type": "code",
      "source": [
        "n = int(input(\"Enter the value: \"))\n",
        "i = 0\n",
        "while i < n:\n",
        "    j = 0\n",
        "    while j < i:\n",
        "        print(\" \", end=\"\")\n",
        "        j += 1\n",
        "    k = 0\n",
        "    while k < (n - i):\n",
        "        print(\"+\", end=\"\")\n",
        "        k += 1\n",
        "    print()\n",
        "    i += 1"
      ],
      "metadata": {
        "colab": {
          "base_uri": "https://localhost:8080/"
        },
        "id": "7lw2fj7G5rAa",
        "outputId": "bb81706d-90ff-409d-c24b-ee2dca1a5b69"
      },
      "execution_count": null,
      "outputs": [
        {
          "output_type": "stream",
          "name": "stdout",
          "text": [
            "Enter the value: 6\n",
            "++++++\n",
            " +++++\n",
            "  ++++\n",
            "   +++\n",
            "    ++\n",
            "     +\n"
          ]
        }
      ]
    },
    {
      "cell_type": "code",
      "source": [
        "\n",
        "rows = int(input(\"Enter the value: \"))\n",
        "i = 1\n",
        "while i <= rows:\n",
        "    j = rows - i\n",
        "    while j > 0:\n",
        "        print(\" \", end=\"\")\n",
        "        j -= 1\n",
        "    k = i\n",
        "    while k > 0:\n",
        "        print(\"*\", end=\"\")\n",
        "        k -= 1\n",
        "    print()\n",
        "    i += 1\n"
      ],
      "metadata": {
        "colab": {
          "base_uri": "https://localhost:8080/"
        },
        "id": "zWC6mL_S5v4_",
        "outputId": "8237cb96-8c26-40b5-f170-f8c1cd898bbf"
      },
      "execution_count": null,
      "outputs": [
        {
          "output_type": "stream",
          "name": "stdout",
          "text": [
            "Enter the value: 6\n",
            "     *\n",
            "    **\n",
            "   ***\n",
            "  ****\n",
            " *****\n",
            "******\n"
          ]
        }
      ]
    }
  ]
}